{
 "cells": [
  {
   "cell_type": "code",
   "execution_count": 27,
   "id": "07ab682d",
   "metadata": {},
   "outputs": [],
   "source": [
    "import pandas as pd\n",
    "import numpy as np\n",
    "X_train = pd.read_csv(\"data/x_train.txt\",header=None,sep=\" \")\n",
    "X_test = pd.read_csv(\"data/x_test.txt\",header=None,sep=\" \")\n",
    "y_train = pd.read_csv(\"data/y_train.txt\",header=None,sep=\" \")\n",
    "X_test,X_train, y_train = np.array(X_test)[:,[2]], np.array(X_train)[:,[2]], np.array(y_train).T[0]"
   ]
  },
  {
   "cell_type": "code",
   "execution_count": 28,
   "id": "812bd635",
   "metadata": {},
   "outputs": [],
   "source": [
    "from sklearn.preprocessing import StandardScaler\n",
    "from sklearn.svm import SVC\n",
    "scaler = StandardScaler()\n",
    "X_scaled = scaler.fit_transform(X_train)\n",
    "test_scaled = scaler.transform(X_test)\n",
    "model = SVC(C = 5, gamma= \"auto\",kernel=\"rbf\",probability=True)\n",
    "model.fit(X_scaled,y_train)\n",
    "probas = model.predict_proba(test_scaled)[:,1]"
   ]
  },
  {
   "cell_type": "code",
   "execution_count": 29,
   "id": "c2141223",
   "metadata": {},
   "outputs": [],
   "source": [
    "results = np.argsort(-probas)[:1000]\n",
    "var = np.array([2])"
   ]
  },
  {
   "cell_type": "code",
   "execution_count": 30,
   "id": "787f5aa8",
   "metadata": {},
   "outputs": [],
   "source": [
    "np.savetxt(\"karolina_id_obs.txt\",results, fmt='%d')\n",
    "np.savetxt(\"karolina_id_vars.txt\",var, fmt='%d')\n"
   ]
  },
  {
   "cell_type": "code",
   "execution_count": null,
   "id": "ffac80b7",
   "metadata": {},
   "outputs": [],
   "source": []
  }
 ],
 "metadata": {
  "kernelspec": {
   "display_name": "Python 3",
   "language": "python",
   "name": "python3"
  },
  "language_info": {
   "codemirror_mode": {
    "name": "ipython",
    "version": 3
   },
   "file_extension": ".py",
   "mimetype": "text/x-python",
   "name": "python",
   "nbconvert_exporter": "python",
   "pygments_lexer": "ipython3",
   "version": "3.11.9"
  }
 },
 "nbformat": 4,
 "nbformat_minor": 5
}
